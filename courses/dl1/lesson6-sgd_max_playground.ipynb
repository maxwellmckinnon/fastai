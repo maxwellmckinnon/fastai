{
 "cells": [
  {
   "cell_type": "markdown",
   "metadata": {
    "toc": "true"
   },
   "source": [
    "# Table of Contents\n",
    " <p><div class=\"lev1 toc-item\"><a href=\"#Linear-Regression-problem\" data-toc-modified-id=\"Linear-Regression-problem-1\"><span class=\"toc-item-num\">1&nbsp;&nbsp;</span>Linear Regression problem</a></div><div class=\"lev1 toc-item\"><a href=\"#Gradient-Descent\" data-toc-modified-id=\"Gradient-Descent-2\"><span class=\"toc-item-num\">2&nbsp;&nbsp;</span>Gradient Descent</a></div><div class=\"lev1 toc-item\"><a href=\"#Gradient-Descent---Classification\" data-toc-modified-id=\"Gradient-Descent---Classification-3\"><span class=\"toc-item-num\">3&nbsp;&nbsp;</span>Gradient Descent - Classification</a></div><div class=\"lev1 toc-item\"><a href=\"#Gradient-descent-with-numpy\" data-toc-modified-id=\"Gradient-descent-with-numpy-4\"><span class=\"toc-item-num\">4&nbsp;&nbsp;</span>Gradient descent with numpy</a></div>"
   ]
  },
  {
   "cell_type": "code",
   "execution_count": 1,
   "metadata": {},
   "outputs": [],
   "source": [
    "%matplotlib inline\n",
    "from fastai.learner import *"
   ]
  },
  {
   "cell_type": "markdown",
   "metadata": {},
   "source": [
    "In this part of the lecture we explain Stochastic Gradient Descent (SGD) which is an **optimization** method commonly used in neural networks. We will illustrate the concepts with concrete examples."
   ]
  },
  {
   "cell_type": "markdown",
   "metadata": {},
   "source": [
    "#  Linear Regression problem"
   ]
  },
  {
   "cell_type": "markdown",
   "metadata": {},
   "source": [
    "The goal of linear regression is to fit a line to a set of points."
   ]
  },
  {
   "cell_type": "code",
   "execution_count": 2,
   "metadata": {},
   "outputs": [],
   "source": [
    "# Here we generate some fake data\n",
    "def lin(a,b,x): return a*x+b\n",
    "\n",
    "def gen_fake_data(n, a, b):\n",
    "    x = s = np.random.uniform(0,1,n) \n",
    "    y = lin(a,b,x) + 0.1 * np.random.normal(0,3,n)\n",
    "    return x, y\n",
    "\n",
    "x, y = gen_fake_data(50, 3., 8.)"
   ]
  },
  {
   "cell_type": "code",
   "execution_count": 3,
   "metadata": {},
   "outputs": [
    {
     "data": {
      "image/png": "[encoded data removed]",
      "text/plain": [
       "<Figure size 432x288 with 1 Axes>"
      ]
     },
     "metadata": {},
     "output_type": "display_data"
    }
   ],
   "source": [
    "plt.scatter(x,y, s=8); plt.xlabel(\"x\"); plt.ylabel(\"y\"); "
   ]
  },
  {
   "cell_type": "markdown",
   "metadata": {},
   "source": [
    "You want to find **parameters** (weights) $a$ and $b$ such that you minimize the *error* between the points and the line $a\\cdot x + b$. Note that here $a$ and $b$ are unknown. For a regression problem the most common *error function* or *loss function* is the **mean squared error**. "
   ]
  },
  {
   "cell_type": "code",
   "execution_count": 4,
   "metadata": {},
   "outputs": [],
   "source": [
    "def mse(y_hat, y): return ((y_hat - y) ** 2).mean()"
   ]
  },
  {
   "cell_type": "markdown",
   "metadata": {},
   "source": [
    "Suppose we believe $a = 10$ and $b = 5$ then we can compute `y_hat` which is our *prediction* and then compute our error."
   ]
  },
  {
   "cell_type": "code",
   "execution_count": 5,
   "metadata": {},
   "outputs": [
    {
     "data": {
      "text/plain": [
       "4.442012833021525"
      ]
     },
     "execution_count": 5,
     "metadata": {},
     "output_type": "execute_result"
    }
   ],
   "source": [
    "y_hat = lin(10,5,x)\n",
    "mse(y_hat, y)"
   ]
  },
  {
   "cell_type": "code",
   "execution_count": 6,
   "metadata": {},
   "outputs": [],
   "source": [
    "def mse_loss(a, b, x, y): return mse(lin(a,b,x), y)"
   ]
  },
  {
   "cell_type": "code",
   "execution_count": 7,
   "metadata": {},
   "outputs": [
    {
     "data": {
      "text/plain": [
       "4.442012833021525"
      ]
     },
     "execution_count": 7,
     "metadata": {},
     "output_type": "execute_result"
    }
   ],
   "source": [
    "mse_loss(10, 5, x, y)"
   ]
  },
  {
   "cell_type": "markdown",
   "metadata": {},
   "source": [
    "So far we have specified the *model* (linear regression) and the *evaluation criteria* (or *loss function*). Now we need to handle *optimization*; that is, how do we find the best values for $a$ and $b$? How do we find the best *fitting* linear regression."
   ]
  },
  {
   "cell_type": "markdown",
   "metadata": {
    "heading_collapsed": true
   },
   "source": [
    "# Gradient Descent"
   ]
  },
  {
   "cell_type": "markdown",
   "metadata": {
    "hidden": true
   },
   "source": [
    "For a fixed dataset $x$ and $y$ `mse_loss(a,b)` is a function of $a$ and $b$. We would like to find the values of $a$ and $b$ that minimize that function.\n",
    "\n",
    "**Gradient descent** is an algorithm that minimizes functions. Given a function defined by a set of parameters, gradient descent starts with an initial set of parameter values and iteratively moves toward a set of parameter values that minimize the function. This iterative minimization is achieved by taking steps in the negative direction of the function gradient.\n",
    "\n",
    "Here is gradient descent implemented in [PyTorch](http://pytorch.org/)."
   ]
  },
  {
   "cell_type": "code",
   "execution_count": 8,
   "metadata": {
    "hidden": true
   },
   "outputs": [
    {
     "data": {
      "text/plain": [
       "((10000,), (10000,))"
      ]
     },
     "execution_count": 8,
     "metadata": {},
     "output_type": "execute_result"
    }
   ],
   "source": [
    "# generate some more data\n",
    "x, y = gen_fake_data(10000, 3., 8.)\n",
    "x.shape, y.shape"
   ]
  },
  {
   "cell_type": "code",
   "execution_count": 9,
   "metadata": {
    "hidden": true
   },
   "outputs": [],
   "source": [
    "x,y = V(x),V(y)"
   ]
  },
  {
   "cell_type": "code",
   "execution_count": 10,
   "metadata": {
    "hidden": true
   },
   "outputs": [
    {
     "data": {
      "text/plain": [
       "(Variable containing:\n",
       "  0.6441\n",
       " [torch.cuda.FloatTensor of size 1 (GPU 0)], Variable containing:\n",
       " -0.2951\n",
       " [torch.cuda.FloatTensor of size 1 (GPU 0)])"
      ]
     },
     "execution_count": 10,
     "metadata": {},
     "output_type": "execute_result"
    }
   ],
   "source": [
    "# Create random weights a and b, and wrap them in Variables.\n",
    "a = V(np.random.randn(1), requires_grad=True)\n",
    "b = V(np.random.randn(1), requires_grad=True)\n",
    "a,b"
   ]
  },
  {
   "cell_type": "code",
   "execution_count": 11,
   "metadata": {
    "hidden": true
   },
   "outputs": [
    {
     "name": "stdout",
     "output_type": "stream",
     "text": [
      "90.49899291992188\n",
      "0.8193879723548889\n",
      "0.22936445474624634\n",
      "0.194735586643219\n",
      "0.1706819385290146\n",
      "0.15220658481121063\n",
      "0.1380041092634201\n",
      "0.12708596885204315\n",
      "0.11869282275438309\n",
      "0.11224076896905899\n"
     ]
    }
   ],
   "source": [
    "learning_rate = 1e-3\n",
    "for t in range(10000):\n",
    "    # Forward pass: compute predicted y using operations on Variables\n",
    "    loss = mse_loss(a,b,x,y)\n",
    "    if t % 1000 == 0: print(loss.data[0])\n",
    "    \n",
    "    # Computes the gradient of loss with respect to all Variables with requires_grad=True.\n",
    "    # After this call a.grad and b.grad will be Variables holding the gradient\n",
    "    # of the loss with respect to a and b respectively\n",
    "    loss.backward()\n",
    "    \n",
    "    # Update a and b using gradient descent; a.data and b.data are Tensors,\n",
    "    # a.grad and b.grad are Variables and a.grad.data and b.grad.data are Tensors\n",
    "    a.data -= learning_rate * a.grad.data\n",
    "    b.data -= learning_rate * b.grad.data\n",
    "    \n",
    "    # Zero the gradients\n",
    "    a.grad.data.zero_()\n",
    "    b.grad.data.zero_()    "
   ]
  },
  {
   "cell_type": "markdown",
   "metadata": {
    "hidden": true
   },
   "source": [
    "Nearly all of deep learning is powered by one very important algorithm: **stochastic gradient descent (SGD)**. SGD can be seeing as an approximation of **gradient descent** (GD). In GD you have to run through *all* the samples in your training set to do a single itaration. In SGD you use *only one* or *a subset*  of training samples to do the update for a parameter in a particular iteration. The subset use in every iteration is called a **batch** or **minibatch**."
   ]
  },
  {
   "cell_type": "markdown",
   "metadata": {
    "heading_collapsed": true
   },
   "source": [
    "# Gradient Descent - Classification"
   ]
  },
  {
   "cell_type": "markdown",
   "metadata": {
    "hidden": true
   },
   "source": [
    "For a fixed dataset $x$ and $y$ `mse_loss(a,b)` is a function of $a$ and $b$. We would like to find the values of $a$ and $b$ that minimize that function.\n",
    "\n",
    "**Gradient descent** is an algorithm that minimizes functions. Given a function defined by a set of parameters, gradient descent starts with an initial set of parameter values and iteratively moves toward a set of parameter values that minimize the function. This iterative minimization is achieved by taking steps in the negative direction of the function gradient.\n",
    "\n",
    "Here is gradient descent implemented in [PyTorch](http://pytorch.org/)."
   ]
  },
  {
   "cell_type": "code",
   "execution_count": 12,
   "metadata": {
    "hidden": true
   },
   "outputs": [],
   "source": [
    "def gen_fake_data2(n, a, b):\n",
    "    x = s = np.random.uniform(0,1,n) \n",
    "    y = lin(a,b,x) + 0.1 * np.random.normal(0,3,n)\n",
    "    return x, np.where(y>10, 1, 0).astype(np.float32)"
   ]
  },
  {
   "cell_type": "code",
   "execution_count": 13,
   "metadata": {
    "hidden": true
   },
   "outputs": [],
   "source": [
    "x,y = gen_fake_data2(10000, 3., 8.)\n",
    "x,y = V(x),V(y)"
   ]
  },
  {
   "cell_type": "code",
   "execution_count": 14,
   "metadata": {
    "hidden": true
   },
   "outputs": [],
   "source": [
    "def nll(y_hat, y):\n",
    "    y_hat = torch.clamp(y_hat, 1e-5, 1-1e-5)\n",
    "    return (y*y_hat.log() + (1-y)*(1-y_hat).log()).mean()"
   ]
  },
  {
   "cell_type": "code",
   "execution_count": 15,
   "metadata": {
    "hidden": true
   },
   "outputs": [],
   "source": [
    "a = V(np.random.randn(1), requires_grad=True)\n",
    "b = V(np.random.randn(1), requires_grad=True)"
   ]
  },
  {
   "cell_type": "code",
   "execution_count": 16,
   "metadata": {
    "hidden": true
   },
   "outputs": [
    {
     "name": "stdout",
     "output_type": "stream",
     "text": [
      "-0.648337721824646 0.6775\n",
      "-2.15362548828125 0.3225\n",
      "-7.1772966384887695 0.3225\n"
     ]
    }
   ],
   "source": [
    "learning_rate = 1e-2\n",
    "for t in range(3000):\n",
    "    p = (-lin(a,b,x)).exp()\n",
    "    y_hat = 1/(1+p)\n",
    "    loss = nll(y_hat,y)\n",
    "    if t % 1000 == 0:\n",
    "        print(loss.data[0], np.mean(to_np(y)==(to_np(y_hat)>0.5)))\n",
    "#         print(y_hat)\n",
    "    \n",
    "    loss.backward()\n",
    "    a.data -= learning_rate * a.grad.data\n",
    "    b.data -= learning_rate * b.grad.data\n",
    "    a.grad.data.zero_()\n",
    "    b.grad.data.zero_()    "
   ]
  },
  {
   "cell_type": "markdown",
   "metadata": {
    "hidden": true
   },
   "source": [
    "Nearly all of deep learning is powered by one very important algorithm: **stochastic gradient descent (SGD)**. SGD can be seeing as an approximation of **gradient descent** (GD). In GD you have to run through *all* the samples in your training set to do a single itaration. In SGD you use *only one* or *a subset*  of training samples to do the update for a parameter in a particular iteration. The subset use in every iteration is called a **batch** or **minibatch**."
   ]
  },
  {
   "cell_type": "markdown",
   "metadata": {},
   "source": [
    "# Gradient descent with numpy"
   ]
  },
  {
   "cell_type": "code",
   "execution_count": 17,
   "metadata": {},
   "outputs": [],
   "source": [
    "from matplotlib import rcParams, animation, rc\n",
    "from ipywidgets import interact, interactive, fixed\n",
    "from ipywidgets.widgets import *\n",
    "rc('animation', html='html5')\n",
    "rcParams['figure.figsize'] = 3, 3"
   ]
  },
  {
   "cell_type": "code",
   "execution_count": 18,
   "metadata": {},
   "outputs": [],
   "source": [
    "x, y = gen_fake_data(50, 3., 8.)"
   ]
  },
  {
   "cell_type": "code",
   "execution_count": 19,
   "metadata": {},
   "outputs": [
    {
     "data": {
      "text/plain": [
       "83.3804215086046"
      ]
     },
     "execution_count": 19,
     "metadata": {},
     "output_type": "execute_result"
    }
   ],
   "source": [
    "a_guess,b_guess = -1., 1.\n",
    "mse_loss(a_guess, b_guess, x, y)"
   ]
  },
  {
   "cell_type": "code",
   "execution_count": 20,
   "metadata": {},
   "outputs": [],
   "source": [
    "lr=0.01\n",
    "def upd():\n",
    "    global a_guess, b_guess\n",
    "    y_pred = lin(a_guess, b_guess, x)\n",
    "    dydb = 2 * (y_pred - y)\n",
    "    dyda = x*dydb\n",
    "    a_guess -= lr*dyda.mean()\n",
    "    b_guess -= lr*dydb.mean()"
   ]
  },
  {
   "cell_type": "code",
   "execution_count": 21,
   "metadata": {},
   "outputs": [
    {
     "data": {
      "text/html": [
       "<video width=\"500\" height=\"400\" controls autoplay loop>\n",
       "  <source type=\"video/mp4\" src=\"data:video/mp4;base64,AAAAHGZ0eXBNNFYgAAACAGlzb21pc28yYXZjMQAAAAhmcmVlAABCOm1kYXQAAAKtBgX//6ncRem9\n",
       "5tlIt5Ys2CDZI+7veDI2NCAtIGNvcmUgMTM4IHIyOCAwNjM1YmRmIC0gSC4yNjQvTVBFRy00IEFW\n",
       "QyBjb2RlYyAtIENvcHlsZWZ0IDIwMDMtMjAxMyAtIGh0dHA6Ly93d3cudmlkZW9sYW4ub3JnL3gy\n",
       "NjQuaHRtbCAtIG9wdGlvbnM6IGNhYmFjPTEgcmVmPTMgZGVibG9jaz0xOjA6MCBhbmFseXNlPTB4\n",
       "MzoweDExMyBtZT1oZXggc3VibWU9NyBwc3k9MSBwc3lfcmQ9MS4wMDowLjAwIG1peGVkX3JlZj0x\n",
       "IG1lX3JhbmdlPTE2IGNocm9tYV9tZT0xIHRyZWxsaXM9MSA4eDhkY3Q9MSBjcW09MCBkZWFkem9u\n",
       "ZT0yMSwxMSBmYXN0X3Bza2lwPTEgY2hyb21hX3FwX29mZnNldD0tMiB0aHJlYWRzPTk2IGxvb2th\n",
       "aGVhZF90aHJlYWRzPTMgc2xpY2VkX3RocmVhZHM9MCBucj0wIGRlY2ltYXRlPTEgaW50ZXJsYWNl\n",
       "ZD0wIGJsdXJheV9jb21wYXQ9MCBjb25zdHJhaW5lZF9pbnRyYT0wIGJmcmFtZXM9MyBiX3B5cmFt\n",
       "aWQ9MiBiX2FkYXB0PTEgYl9iaWFzPTAgZGlyZWN0PTEgd2VpZ2h0Yj0xIG9wZW5fZ29wPTAgd2Vp\n",
       "Z2h0cD0yIGtleWludD0yNTAga2V5aW50X21pbj0xMCBzY2VuZWN1dD00MCBpbnRyYV9yZWZyZXNo\n",
       "PTAgcmNfbG9va2FoZWFkPTQwIHJjPWNyZiBtYnRyZWU9MSBjcmY9MjMuMCBxY29tcD0wLjYwIHFw\n",
       "bWluPTAgcXBtYXg9NjkgcXBzdGVwPTQgaXBfcmF0aW89MS40MCBhcT0xOjEuMDAAgAAAG89liIQA\n",
       "EP/+94G/MstfIrrJcfnnfSyszzzkPHJdia640AAAAwAAAwJ0xbLud10Nph2AAAK0hX4RCg5gE/HN\n",
       "9auwwheA04E35ax+/J2H9hn/Nm6g80f+LtzQYXU8Bpi+XB2CyEqQpgLF71n92ap1E4jjUI86K41G\n",
       "UP7kVKWHjNSNiDEafFh49v9foC3HSG0x5vW3AUDTqFjuDYXhoPhf6oP+Yd3RkPclq4iXGziRagUX\n",
       "Dds6sDDq+jgp/rTgqwH811V3G9+XnXD+lQVLfDf6B08/tMTxxxANuXnjX1EDvP+es8IOr4LW4hbr\n",
       "QN0UTSOUHIhN2DKH/lm1LNtQJt+mjMm8fYqDpv7iAC0gaPOTHJCsWJhElIwrYH56iW62okr1fG6V\n",
       "xgYM+XIsGCHbu+/4fD81oZu850Mu7jDhm3R99GdL9ENL0f7nx4abzb9G5k9aR6p9A2dydlnkod33\n",
       "LoNgI/ClKWqYLwNcZz7z0kqOH/Vcqgmh2c4r2gh5O15R5VHYINmVXPwaij2b2UZ6lyOXZ/91GPvJ\n",
       "1TtbwR1k6hjYZJTHxN5QCE4L6dwuBTkEy5L+QA4EhazuTBx4S0sxLm28gJKrqqWf/cdBtRCouB2z\n",
       "grMAHPp9hyE3PE5bMNmlyEJO80/LQZPdzR9ZjV/cVAoDAIXpwP9QvbPlnO8QCocvh176lih+2FWj\n",
       "SeAJvfO9igm1exisa/QvvjjyG5Z086hTUmZ9+EtyRQfuhHqvNFgOC0ZESPLgBa2E6+QqXVh4efdi\n",
       "WeukiUrigLl0d+py6S5T/f+aiuOfk6FpMc5SyVe5XiIb6LUiWks3LdUdPWBqUJpUyIv2jB6hBGVL\n",
       "8Oy/OTJKXgJE94Xynd7Ivok08N77NHps8WNF/e8FG7YOlU0DkP6XySWuRZb9i3xJfEze1/+e0vLT\n",
       "AEPsNGAP+n2evB5D7MAI/wXLhQvs1znIjjk0H8Cj1L2teAJpkXm+2Lw4bcDm+TpZMRIKeuL+R/Fh\n",
       "CjlTI4mY1b8t6RHv+IWxQYaIh/5ICd5zxVyUxEnYAqQD8eT2JjVgWawVwOxd830LJPY/e7FO2cG2\n",
       "5FtLHiK85fimp8PNixf9YrtgKnCF08W8+6tOHywAiOiEefiq8THVPZhFCgdWIKz3sUR5vhTpiKvA\n",
       "JZgPgJ6OdwGPXNuTcXACl7j4pFWK58ZOk/AZgG2YSmNrhkRmhiKkJsGXeUmRt8foNSE7WPUy9oRA\n",
       "cCXGXMp1s1iUonAz7lAdZtGAdWHd8M1gf/ugVRkCaFBG2zU5uHM07txhZjhZO9MGRAonIrrv9gSz\n",
       "eK4sw7TxASO2M8mS0ItVN8JPZLcQBjxU/nuP3gzdWBn9jCNacutJQaWh5FfXWrUKUSq9iXs/pFjX\n",
       "5kVCCLnNRePhvSW/lt2WExvsRqe85mKSvAzlpFdpJqhntsNTygMwdZIB1+CafvnO60J2TqQx1YQ9\n",
       "Q0nXe/lg0U6abImUn5QT5yR/ZDVge561XmN36kiDzkNnHY2+UBlufqbFPhfnu82eQha+fkV0XlL1\n",
       "tcp9UXFzAq7C9bEcSI+NrsC683G2kcAv2r5PADmuWto2leExtEaEbl0AJO/FQTrX7bv47MONEnra\n",
       "jJxZh896onjh0MVCwfRT29tq56siEOC35c8S0dAxcPz76FQZ7O5xy3jN7bqaYb0/vOcrAIEMK2WC\n",
       "LaAh4IJM6PeaPCF0HqLI9h+/IEhQJ9Gtl8vMpBd4uLkRIRLF5vRflYS4/YCCu/MVyDSPM3guphyU\n",
       "akecWzqrR+pls22QZ2T5aoN7fFr/iaymDyeKFDGrKcyJIBaajPMC2pD69D+v6Y6v9MyUbsulcmBR\n",
       "HwqmfvNWVHvo23U3KdGPnicHoqpbccshoVw+PWuPpe72eSV14QzvIEb9uC+v8tPqIZqhaemySST3\n",
       "HbseIJmkbMZdPp/0/ogb9BF+O+e5aUvO/ZRwD0hNoGVR8f6GLoDLosRhi4iV53JxNqRgtstd4mhi\n",
       "NdxgCmJrgoYT0JBMazHT9oVIgtvscfcoz4QP8SiqsUO1gqoDSSzqQg0ZN1lLh2N7GY/HICrq7NiC\n",
       "jgfyGyMTwTh1wAp6JuUHCtWpBoSEhhibiJFu9zGcFn6ZAb7ZiS6rnmutcbnrij+8orSTA/LAiGG4\n",
       "63BAy9sM6lVqXKWLERZYnQyWPUcaP6/35/KDtWmEOmm7vNoq1LGZDfGSNRrUIA+IUnqWGChrdZFl\n",
       "Vr1OsIDUv8TwSMLDWwiJSBIUip8szihTz0jvUmMz9DuJdMypgQupVzkRrGl/gFtUl5C+WMKFDHDl\n",
       "ZafuUwZ4C4AipTU1Fc/ZsU2WI9cUWBjuIc8tbLz9zDV38q/IWcYC/MRc0CxoB9iW06YOkFuq5PDj\n",
       "6ABNiwoKWWXY2hwZM/vb8WmAWZ/IyjUQoZpcNwqYvUrGUJDHTvGn2ghqcWLh+E6xcVH3VcnDQIgc\n",
       "5XbgZ8g6nDYJoaxHjMpyM9ecRmPCavwAAWWVa4le/BUCuo5fvv5BSzDC5YwpUjHh5TSWD/+LFA1i\n",
       "FCat3D3a4Ja/FO3UryUgekXJnFq5VFJks8k/Fef54kFKuDnkg0pW0NpS/Vner0YV6IZ/shK+6jqU\n",
       "OhV8LDjuXlowWJYytsWjQ3vpaWvkxeOGZnQfTc/2PfWlG4WX8ZavWea9cfpwhFJWb2ZBz6AUCABN\n",
       "pjBRnVjJL7V5om9V7kPDOeDRR/+pv/KX9yuk/GMMMvJo+15kFMLwdTieSx0aZpSG1uKE+689wfMe\n",
       "/JzwgiQaorDqquET7F/R3VXt+6rhOC4OppOFYpBAyHjKzOh/DoXv+epbHy7RW0jl4WsnM0tu4RB4\n",
       "mVWBQHqJcYOV+OGzvdEtOQNLWM+HSjKF2liQC3TIiGAOj9iFyJVucIr+YKoynGaXrsHCBCRmSzyg\n",
       "q5kQJ4LQ67OM4Z1rSkeVXwy+J4amEyn1kzgmkQ/GYhm+y59qexd7H8K8FOFx4vyAJ8m2C3iG1mcy\n",
       "YMF/UTGdulIKnvqTaSQCZoD5XV/kY/mTMI+MWm663vbJBGnxR7mcatJvYJg5EIf02P3rBHYZazH+\n",
       "ykzEv1kZ0tvhb+X5MqO/wHmcVILH6Ug7f7mHHKiEWvEw3L/Tj3WnZvDYN5fTjm1t5kLSEIX5gjDo\n",
       "u9ljofttOMV5mGGM2NSMdCIfsn0RC5WXO8JFlYgqprjUSbeN958yOktOBc6ptKK2f+WQAx1qVN4M\n",
       "dWVBTg8+b3ORSjYXDQnVKxZNgNGmCKcupryBOZDFHtWNUb40yObNPar7uRh+TqEdd693OeSgRkB5\n",
       "NqnVe4hiCsiS0+AB5wXbjvisLt1LAhCNZGFR02DgL22B28DUmZlrJKx4VaHeCnswBKUvb47jlPGK\n",
       "Qu0v1eiiMMv9fFiT1MBS/4IS2d3NyU5gF3JBQsQ9rz6sbSgE8HQ6KsEH4nCVmpvav8yAMswc5Ddj\n",
       "CcQ8Ztd+z8wZh3DTqwdHJIPv3y0ZSAkA50Y08PBYMbIfeQrS/fZSej4trFKv5gBvVv5HeYyZcGhr\n",
       "jqrojoSqHCqN4QJDOh3mLBpxx4roumPd4ob8sv4BH0URSPl/ne2EzvBJdUI7NMdfaCFIouS/60r2\n",
       "jrz2xQDG4dE7Q7VuizrDjYJJSGSokAIMpF/iRltIG1TsqO4wZIZgwuiWpycF+4S2K7xpVZorTGow\n",
       "W29M3HNo9Oottb/+krqT9lt/x7zAZljIgDXzEciBGh7CFZjqTyYnGJm6HE+Fki+vsxPFbDfdicB0\n",
       "nLeUWzinL2auDFk21QpOnAbQm5Z+KnnvVxK9YDUSJZb148Tb0NB4cqJ/GKzXIpeg06/Vqrbbnk8O\n",
       "r6PkgDzVZfnaaI8+M+BM6kkN5Eap/Tnek6oHMO1HuzYXwuxTb4HCpFh4JRhPdmT6ot9BKOGfHBm1\n",
       "jNCOQIipAT65Icx1OHfqHbCIq2YiasrHfhi1NhT1E8WaXL1P1OEyFOxWzxi6p15tgEIC86JTForM\n",
       "3s8ubsukZpy9cFdfaNWiDpLkSr6cIcpxwmxPDAuFQm/T46zdYSoW2ZOLAR2JApFS4wtf3BQP26OP\n",
       "ApMJ9KavaT+Q7/tlH4RRE/EqQEoqgXHP4bCfDcYKQlmIUGM36u8C8+Nwhb4T1DTBTwr4lOQO2mNk\n",
       "aC/eqR++YrGpys/i3W/8SOSbfrg3d2E3r1t1ZN9wxirlZQTM/xgaoVWQCW0GPUZtLajlhAs7Szgm\n",
       "pQc9YEFDDxp7qfh3e13QOnI8wPnKhvaf4+Oi54/YSo/Tsbr6nxM2bGKnbkZzEUa5jqpvwDQk8XdW\n",
       "HItyn5nAlZqmdM8V4uzvC3H3yxGjxoh874LvSvY3xG6BRvg1/zCqUF9jdN/aUqyqsW8epB8FUO0u\n",
       "YyC8h2TcRmskg1xI9bgU4nRr8LfEa+0uys6wFAn0niQ0VQvEiJfFP/ByUeKJLYhMoBwqq+0NOcvH\n",
       "Vs0cJ+bI6RrxCeubdVPpPOSyQHLLRRknaKRrFMS9s8ipFGvfo1sC38sBy6DajGayHcsElyU7X/2l\n",
       "1jto1IqEosjDvIrXWHsI2/OlQ2ukCUeOIR83snS06rvznrkCQo/V5bc3s3lhJoTEFRi/QPO4xIq0\n",
       "XoAW3AbeROlCZATeb8ZZTElmwtbrCjCp3CJMU/VlYOI3zjPlIHKDEfpgZWibwSXREBpHN8wJXJnf\n",
       "ZE9UOPZ3ar4vNxwRgj8q9GbfR124HiJr/kifrosfD+mxaQOUfCA5bbf+vMh91IdcJ2MoVEBn/OBy\n",
       "sAvsLr2hm2BZsSulO5gH9cTxGQ7CIBu6nIpl0zSyOHa2MRURIFS7arfgpb7LJeQ8k5r66SpxHVWC\n",
       "NY35/akfHFXWb9AsciVa381YDPTpGeVrldhz1/2WwaufDmkeE/Wh4EYP61XOq+JU3IZngkjK+b3t\n",
       "ANpSPUhSmeIN7ZL3xXTnnfPsMbKrJPsDP2XDPbtNLBujn58AldwKVtW0pCbKefA3ud7IVgYvwrCy\n",
       "aiH8Up7RlfLbEag4n2oDIpOFKddA9WcNUhAYvd8YvIB8DSZ8T1OdLVLlgKeHOaGy1qHEW9CjtnUJ\n",
       "4jbRY9h3SCkigyK/ZzRSohD7H0TjzvdO/l1s2DmMBvQlVgnB4q278Z0GFxNBGN0gcI/klmQoooBK\n",
       "taEaz199Y0K07PoJEYPN7lBXzIgNYDQZYzK4jmT3AaLh0Hq5KaVoAxOiOQOVfi9P2Q5pg+DZSqWs\n",
       "YcmMNu6g67VjRXejW2EzYSRwmduY6Rj3eUFog/6B9K8oB42h0hUH+XQxOBW5bIBKH2/VQFMXvRA2\n",
       "x36FWhzFr4cQHQiO55ByOah5Ba1/Z2eZW/qm/YB9UYO/GFSHhe0b2gDLPhzzSS0gVNyYyHikCOzX\n",
       "Fooe9n03ObMQBlro/eeyWz7IX7SwioAOOdhuBQrBuRKHJwvBKEjXKWozuNACM1q3vV/zol2rvH6v\n",
       "oQRUxCQuXg7UVfCStpN7ZJLlY6iQfW936yLQ7CL3m/5ovD2/5H1mze4TFvS5GFmldFgUu4yPByCr\n",
       "GxjkgrBc6gQrQK0IaOQLUpWoOmpo4BeC6qblKBrQGTY8jdLNWx62i1kAvYjozbMZdDn7NBAhs3ZN\n",
       "p/pEILxXxqOOIEOX2bku4x0cOnsbEWfczi4I7LzuW0MNF0rb9UehZoxDwsv6ISM4vaMYCtiDnSp+\n",
       "UbGseKx1fq327Y/HzLp7v7XPmbxQC3+SZEEheen5wn9ieGc00aW5MbvVfQbGGLD/x7nmvazbJeA3\n",
       "jlT33GD61KmssECJ38ArFobR3+/8ZIChmIHYFsN2padKnGRBGk4X0Rr5w7Dip50wWJw+ijEBk2ZI\n",
       "YVFIz4xfmUNRKPx9fKecG8mqJd2XlDzefBY2f5n+xtgZ1Bc94g+Kb1NDtzSDP/HaL8wG0ZsdLUhh\n",
       "7tvdOdk0k8NxK8/gTYy5P8sQfcrAtYbARJRHum8KvgD/AG5HsnT86ZwzE0SpLSpL/A1JKzWBGHgD\n",
       "/ngqIXFfx2Vu40nHUjiFn8Ml9EZdJ5cj7MjtyFM6swJ/nTuVa+lX+xJtOmIX2K0NNlXXatrr8ZIk\n",
       "v06xggGqT8Ca38rONkae2k2lPoLhsvA+t7t4jHzhKMPNOHDEkvRwy3ithU3pBBL/cEGLkAk1/fBJ\n",
       "0p1WuU3V6g2Yupk8q28i2bd2l0dgDcIq4O56nZi6/V9tuPnJTZGkld0kwZmM5vTAojtv1ulb8+uq\n",
       "Kb2DIDk8t6A+Rr79kn6fypar07kI0VFufbyjPIpuLQgamKFKT6/3BHzE4CMwVTiDLKsavSoEqiYE\n",
       "9i+lmSnVTlATjQzZ/sWxIJAK9UORFP6xBMBQM4Ib23J54ZqfS4BK8dXkaeROyxTVyAlB9i/TJ6tr\n",
       "4SD9wEjKIgZiCTEfvVj3ySUxRPn5KlDBeRyw+zxSPJ5FfOnqZdu8iQAisXP5ztTTD+LnzqCbn0fk\n",
       "kJgs4gk+m6dlyn9zvKT/9fnX/0y6EQK9T520rf/g7Abj991q1u1t43hvEF05JYz8tffgSL9B6zOV\n",
       "XdkzDlwvJ5ll3f43A8UQd634Ko07ucVO41p3YDHnpq/KEnq2v90DbJRyCgQlxkh/kTFDNtaTB2LH\n",
       "VAvKJ7ftEiLpMMknGyMu89w3SWXeqT+csJ/TMVeUAkwbRurE19loI6wX7+1xpvMVNgU9hth3l8jJ\n",
       "cW1DizTm3G7NK1Jif7WTFG4rPMrVniPW5008/XRl9fv1EVx/0M8zwMRj2Untrs7zMCX/Xym5e32O\n",
       "Q/Fe41sVaEX7qYGiExWJr62VxiolfY1gSkql/hBZWvJfgdGCy1zK9FisOpQ/J2ypvI/oveGWmoBb\n",
       "MrrYXltw8VvmK0IQjYaLkZU6klacxqU6EvMeUXf/N+zGMhTOLG8Bo8aLFZOSl8PKf95Vv/nJmrFJ\n",
       "GSzzzjJsznkfpACueFOfh934uXNqwf4fgUMftNcR2t1dRTKr0/D4dON2O5VJeaDRDZtV92gR+jz0\n",
       "9ygw8n+RfdhyqAzrfQkPP2XPudRJnBba/5xnCl8kOZItnscywZtyO/fdc4ZKS9KkVsJZtx7x6GPT\n",
       "TEEsmDWlSi2MedN4ZEAJuaJBVLnojQot+RdhpluLEpH6apZRLjVIUerrLNm//1OSBsn9SF46McyB\n",
       "yGuOrlGmapLPEMndMSodf45qutameXWSTm+wePZunXZzb1WVTALO0GNtoSuQfz5pG7/XDBTX6PP2\n",
       "JnF0BQslEhBbsWaZVVXVsyrcP5L4cWlG9GO1D6SdHnpB1tXYjXA1XT4z3lnfSuEUUhgcPtHoWfIQ\n",
       "Zi4cENv6diDy4k3xFRrRWQE6y7WoGW0xZiCsIlUQVYLfRBtZKCOkbwjJNTKs8zS0+u0tupgDRZsS\n",
       "YcrkXRZcP2vm0dT1MLZUI65VoMopVEbnA3FC1WvKLRUsHzj2hpLkbI+ikZnEbvu1sTlhdT7zCwLS\n",
       "ttWhEqIEI7LePvzzWTm69+AyEeSziMMuupaO9L2ztKJ4VvMSezBGmPSzJ4esET/GzqBkawAA40iU\n",
       "Cd2LbI4vvS4f6m8et7Q4E28bYWTaGwgBPzoWf2EMiQOdOiEvmPHG/SBG03xGZHY7fqdbCN/B4iW9\n",
       "940WLoYMIUeGPacXs5sJ5Pm/gLhZ2oCCntOAZvz6r4vM+KdsDdts9vDQlSDv9IFeYzY7cDWHl/o0\n",
       "ADLw3QL+f4ULpBaZA/IAfhamKYbfIuBP4kGmLytQokStg7SWI87re41e6kEJ4YSP8f1RQ1QTdQXN\n",
       "tGAmZ4N7Wl4pAP/mLHZEgsnjcX+GtpheXYYJf+gbUVDTSablFpVskM65rzSC+HPlOQJLqluP0zII\n",
       "DjIHCwGBnBrY1+rvcWxrKgNyrHjGsSP9dG2lI55739t6RVrunlm4SP1KjrN9RtaXoCM6M65y/GK0\n",
       "CrBtn3RjiO0Gs6Dk2CGasTZMX89RGFRkxXrBTkzbPMBZCaxR1W42xI+OM0BmN+xL00z8uHXiVfTp\n",
       "wbWm1KjI9hOv5X4ElqrmyneOoAuauHUnV8s7W2902E/1NPLEqRkutnf0ssH31rYA5yfa21uKuf5J\n",
       "DvApFBtVGcA9IUjR07gyaJWSnaZrIaRNJ8ZN6FJ+US9P4uHSRLLf+qQuumj+04Z2+gkTyiyCV5Kt\n",
       "WbO4BdnT8MJJSAeLl1TBwGKOWXwpFuWZ6yCEKh4dZAqZC7D3xumYdM8lAtqZ2ktEFm1G4mzdN+eq\n",
       "BqmTeIId7zzuqMWdFc/ob9bbRmKOIQSnbA9G3ZKIsun0sg5HDXYSm2Oe8eptd0CJ49fKMHpB35Xd\n",
       "MpbVbDyNg9WTb3kLCZSmVFncdDwBxn717jMY01SXz3Ffr6b4+Sh5VC7eCKrR34DyaiZrEP5LlARw\n",
       "H9HACWPaZG2/dN40zJklFT6K7gq+bhqse7Ku58OssMFXYwNJBo4kHTjzTb96ixxcdOFa6xWRrubQ\n",
       "qulIXfLEhpM6gv9oI4IfjXVYeDU6hbaNM1NyLbAdHArdKGoLDjkCvcOq/7fiJrGsqtDVVcrtHXxT\n",
       "gi6snbXUTbc0stMSn+ZBJOpvLtLnHhas6isOeVUPzJ7x2Op43N1SPGGpNTNo8abGfTptMK+E9BGe\n",
       "qr6SBmX/gQZLJyiao+QeZlCFnOLh9jMPd0upVE4PCDZ6bOWRzI4yxLR4WFCDQ5tXdKe10QlomcC0\n",
       "vJ++FJOVmp2MedDCB3xzJIC8D6uyyKJURyqHpQltDPCiCKJ6Wd1EAe9R3h4nnigf/eFjl4/lTl35\n",
       "xUNtM4tPcCWXAbX+9KOn5Mzzs5K+OSUu75SKhZtkGb/+erdtXD8HVACSNRfbJTYvkkH5ED8Hmt2o\n",
       "Kt+12NDP8WivqFZFwOujsIUTk9G366Oba/M2XxI0vKprpT3tEzFiJKuiyO1jriee0M5BaYA4fL8i\n",
       "DRgd7q2Kl2PCR5sWDmcMlzR+RPLiRbkV59XO6x9MakW4fSYU/X7g4ei7to7UQPL+Y6PTf0dysFyN\n",
       "3UkTYsAqQfHnOjnIfH2bT/eMbhbWjvFQnyJvVA7hrzSBUL4rAAAlDAr7XbcBb1WJJjQ93k0+aDlN\n",
       "7w8fe+w7jL4sUlhdTqg0Gp/jh7CTB6q9k8CyO69trj/3p/Iqbfqe6bgPzMIs1akPYIEitzXoHaXj\n",
       "ZuTV3pEvrCyFwy8DdM4En2n66Lkz7sPrNVW3WWKZRSFHeseleGjCOdxNO0PdfOfMcE0ySyaIq1eL\n",
       "ExK2GIciUIHs6411j0s0rY+/jPdd0ymaev8Kpwh18picTh0HEWKya5F5GTlUbPaf/6TfHu0wA3y/\n",
       "As0NRz747Ojbr6g1i428ZziaQQ/Ppes5lSxy3T9NUl75SVmk1QBx8LILO/JOY+BUh6vshGgLA2aX\n",
       "BnUHLcvc10OKklIUoD8zJkjn3+gcDDLh7FpO4FWWHL5cS4clOyJ/dXGQq+ztDlbgWNYkNlx2Ri40\n",
       "3vEx5jTcKnJ+uErKlbrarfJRXxYJct4VzaQfGSkJE2K04MfR4/64UkQ51EuOjgYAl57kmPrYLhbw\n",
       "nPNYp3y1lpfyn7hqrPj6wU+6FmWYpJ75Z5hoDggjsdOPCy++7iYxkYvAO8AADIkAAATSQZohbEEf\n",
       "/rUqgAUoqDFgBUV2Dfjct/D//tFUhz9htmbYZIujpNkHOEpU5HIDYh/YUSBpT58pd5QHvqF66w5R\n",
       "jbldst1chTlbv3if6dgV7nXl3nlPFeez/knZhqc1K9wHTvQtdodPYQz05bdTEDxH2eijSLr7Lw+4\n",
       "GxUIWM/dEthup1G4tbVgdeZ0FzT0rdLXOo16skA/83YQAsOXWbptw5/0FQJcZnlVClzrErMR3ME6\n",
       "rCYH6kgcowqfFzVrNbSJrxWPpqi7Xs/o3zeLkUQ/XNQas2gNRRTrjYHNeU5OIUJfh6i6xEOxDPDm\n",
       "xk94/35QOSFR/L0wMSWhkJhXwisJ7gx+RKY+H0esVl7nuyAc8sE4bAXWmtbpzZxZnTxvCOjLEXF8\n",
       "XY+zaj85T4mrtHjw1w6a8HRspMNCSC2qEpbeI2vTYHjj0djJXLo+c9DzqkNtaLr4YrVH/vgFwNSf\n",
       "LXmBFUAOUQYNvQJW381VqbkxZ2mbgd4yiQSP/hwu6qpqL5VF0p2ZDVhqKX3cpUMJ1Y0iz97clXaw\n",
       "OFYmen7rYx6cb+AuTCWoyBhYTdYGDlnJQM910sulZWNOc484UhNgohBKMOOKhw6dIDOrbtaUWdVN\n",
       "cddLj6rZGtGH8/XG9dlrz8KqJ9WLz8PlYWZpMdOAoRYq6rgomdlG4Cds3cFWK5ioFXAX2VOiPW4I\n",
       "2Rbddp7OJCVcgXNUxfRUNvUbh2FAamQN9abMv1rXfOOOHYhUILj07F9gtSVNVy6nT7SwsTAMfXES\n",
       "Y43IJJO5TvwBNxErjHqdPQK3r8F0yGW+rPxs9FYoXXMY/q8RPO6k7tPhE4N22QEk9jceCyz8ciC7\n",
       "9i04E/YVklyYnhT8UcyE9xjGn3C3lcRzU5bBPWRL6tFFrtuUGvjgDCj35XHz9Tu3qhJVDtoUdayx\n",
       "u007ZFRGd4xCE1EWTopRcPWBSH4n7qQBX7M/76k4t1lJwM2JDF3SCONuV6oNZLwFyTmqZPsexFgo\n",
       "/mxuD5Yr6hBmwBleVWhdqxUr7ka14fcoXnm3UuLo5msYYLirj4GcFB2pIpHa7XEsuzXQbtMpLaOp\n",
       "9U0Im8MGRfzk84LmtAzE0OtlrxaKZ/ueBFkA61bEL34HgWJr7yIGzG0lsNycScrvYpNa2zhE4vnd\n",
       "UFHOdO+k1IKhVbltJp7Jg/pHGK+UIZ5fUzE9VwOcqn2nglKmikHNn8damIYLllODVxxArLTweJlv\n",
       "n0m8HHx1h8PbCILc3JbtcuolZh+SC4+V6+025W/OwWKEKzwLa/vb32VxinfhAKoPIhVh8IzfoDHg\n",
       "Mk9QcYBCJ26A5ELoz6cyzcpXe4mnxNL3hZNNHBbnPeLiwhbx+L+HMh6kEFxFHRaltsl++7/pg7jB\n",
       "pUx3qLOFYQgTaNKnRaLm51Dkg/mGJ20ENVw9gtD64FeGlhaF0qEI1mrfMcd4/EiUnyPcnt4r8bcQ\n",
       "aUQx0gcnYIzpnwIKek0GHZpqZlJXogf4P3HiOIMQyzpjH91xRL084weAJ55cPGIxoO6a/kKXp4ev\n",
       "wfW94z8K2JYXnW3KdyrzIEMyQwxmLElEBq5rBCiiKFTYxAAd1GLx7cp0ZMsLZO0AmKOolXQpS3uX\n",
       "t7mwR/L+s1QAH64/CXQ2BJuF9fLLZ4eVozlxMKadrgAABeJBmkU8IZMphBD//qpVAATgXsWXQATt\n",
       "85Qs7oM7Qq6yMH9GWASjVZ2+yhK5wc/FF65Zei1jB4lIfnKd+riTt3Lf8q+YyHa7GgYbFBhtCivb\n",
       "uT7o1Sxjs9NtDewRLeUXvhspVpWE7PKacMqpZFkNlF0i75OLmcGwEBVLLIknhdbp4aBAxpUNtqDA\n",
       "Hu0BAYBTTpvKOxR5Av9POtbPdUF+h9N3Jh2vZWN1twPMh2oMa47BQXvzeSgSIM0jW/kxsJvpNbfD\n",
       "RIHVHcWw9bK0VsNnGvQnGL+LUlsheIqAgPxUvc2+5rrQZCOgWWHq77alnYqwtbNpYsx6NdtmcIcZ\n",
       "Yd4n4rieFKIu+uJ2/Csp4b+qjdWO3dGs0EbYuGbLVg9itqY0VkoMYru2MV9G3CVhXL28QmwASnyY\n",
       "ErE2mz1XHjZEoJRZljp6YuMzM6bS13Hg569BC8CH5+s/+rEiAke1VU3v+lWsclMJThLH/VZapwHH\n",
       "R0s/VG4SBEhxR9KpygEPGCCg/s2Thj2mHn9M5fGfovlRaomQ9P1e0EPBkjrvuNBJXdqiLHpic35o\n",
       "9SQ3naezYxF8qmHkgrjvE0WtmbFkq2Gg9ByzHJfxLYu/uVZRMHKyP6OACJfvjRQA4AZecPsoVkpT\n",
       "FYVJ7j3iqI2xZqWPOasC7qZPUn7NiqdQm0EJ6jzBu/it46j7x5Oq3KXhsn1CB9P8+8jm/tWc1PdU\n",
       "W2ar/cTCJmKnFghwIXw9+YMsT+6E6T/ukNwphZZqhtXnIetzyOtQr+ci1xoo9bBbiEywRQMebOwR\n",
       "FJIFTq/gvXX7Wh3Jm0oXoeINW1XZfU1J+nSxVP2UlhJyUNFPqYyU8cNY4fSFhvLUEi47Nza1l7vh\n",
       "gDyaKP2G5OAp0w7FFfSysUrVyj9nuMMfAW/qgpYRjWaZYWR0S+YA2KNFEOhr0JO2Z08sKnJV+cUp\n",
       "XJDzTVqrb+2zz27rCymU2AeGsz0Jl3FX6rFD9k6R43GTei3lud1M8L7arC3/vxm4pkaI5FapvtWk\n",
       "7NYj14nSD0pJ7Aop/0TqwmRZieU7lGD958Q6hIH3Pdg2jQRL46h1El2FxH//0KZ3EtTAGE8+UpdZ\n",
       "TLv2kohz9uwtwGTrapWIV0eTf10L1ZdPrc4iJW2Nv97EMvN7hd8XCwpbgNDxtjmy4NIgiJwRz6Zt\n",
       "ibFCQSvPmQ65IYzPGCtUh6HxEML2fOwYBIufJQls4O1YypoVqIa2JuUcYPZyp3akB548/p1smf10\n",
       "OXQbeHiOH6l/4UUPrYwJ2vW6/sldnhvtblsBl9zYrENaAnu5AR2KSkl2jaUHCLjXbZIHncjeHP8j\n",
       "6Ojz16q+2lobRpYSDBI2x1eHx4Yt/s0iN3VjL5OVpSrWbYgdvhRp4Ho3QDEeeqiumr8X9v93hBtk\n",
       "cqhAaVjl59EO7i12i/oEEeZCiV60KLMY9lyWuZAHqSM6RuPqJ3JARgkO0boQPrjm1u0qQQyZddpG\n",
       "Uu8wWSdOTvpu3q0rtoTtzAoSiIEQn0acZmLxJkIdiBgcPvdTlwYBDg3CZKFxb4f1Do9sTiz5KxUP\n",
       "6CsyYss5uK0ltG2urptXy2hLFcDtIzEAiHa72fJN9kx4HGYzhjps1qt/pA6mU1IAX+8gIUMywU1N\n",
       "EJMp4WBaRLDG7KPY9kuCN9z/oyl4E8xXTrhd7d8jYsizSQRq1FsOLV+P6x8/HY8vnBeScwyxbiLP\n",
       "vvb1zi3bX4eLkw7uzLiecKW4NG3KyEYw4Z/KHcOJ1wX5Hw0B2UT6Pc+5xcw5ljX3zNOIHA6eCFlF\n",
       "xYlM0adBXzCCP2mnS2FCcPuxSqN8e5/l/zg1MkJ+34rQl52/twIzdyf90ZQfVtKCOEZumEYfnaRv\n",
       "mYT9p1I6TyZT4b/Iq6ZmXBH3FV8MDBG6UHgljFASy0ZblfbN8fL1JxypDzgu7S1DuANsfxSb3JmH\n",
       "BjB35r/6L66dn+J/EctJymHzNVtTzv/X2mYnCuh2i/ywsp2sPo60+npc050QjIK4HQBz4ovTLBng\n",
       "AWUAAAOwQZ5jalPDvwAJhH9esJ0Gvh0DCAC+TxD21juGD1uYZwYmlnEIqEq6a6mlNPXuL9OABQl0\n",
       "pnJ3OVgSR8WDRUEE0X+zccIso4pxzyKXm+bGdgDrFNvt7BC5BMWrS24E9bFLKujHrvWgWWVlS8gn\n",
       "Wex9gvvec0Japq2BaAfJig+lbEB/geWexbVF3TA1DtE3nkR4W2AbiRqsd8q2WcaFM8ogmNnh0yW8\n",
       "fVDUgqSCav7YrmtjTtOJt4+iWJuo4r4QKxs4CFpMZ7f/eWLHVnMgYcoDsixV/iocAjAeuvGqUcAL\n",
       "xEiB5Ia97bF1J6k3AGg0LuMcyScvnGkCjLAZavnCLOSFupx97HPwih6JUZ8fmfD6rLxNwgakHWYS\n",
       "P+vAMFP/wIuHDndUkkB7C3nu1k3BcS/bmOV+7eYAOnH5FZm6unWjVDWXwup389DDyxtAGmqJCPzB\n",
       "l7X46JnzRIaVpJ1kH68S/CqeBtEi3JyQ/3iNr4+yPQ3bCyv7JyvUFqaFMBvUX+609bncz5PfQcGW\n",
       "aMWL22Jtae6H9ecCEEDaRNj03wVAT5FsgOojEE9KhJw3zlpaYkepQEhtbyN2gGtb8Qiv8pQTCjPg\n",
       "piBCMpDzewTrkYIyMqDsULn4rV9rggf/CuqANnxuxEUp9Vikf3a+Tlb0lW+NCwfOM+X/UiiMZ4w+\n",
       "a9S3qNGYPceiftyFO54CtdmtbyOA2Ej+W6b2mNWYeRl4vbLpUeEpshG0KKJGafd92MIKkaAVAH9N\n",
       "6ZwSYM8VHAqxpWosWe5rPyiRXh02c19kXuYqM0HtPC7XbjkrOaAfW2N0/XjEXBiCdU33Q4AwzSMK\n",
       "+5DZ/RYhZHgoQy9pe0GetossM5vr/jf46BFkc392/KrMEIU/Dc+3xDafinraeJAWJGGOe4BIGC3S\n",
       "qGKEpwf67PF9MCwbk+0DhicCkyQ+1oh+nRphnPXJdZti8OLkbkZCZTi+Lc1A/G/HESWwgGOmM7Ih\n",
       "oWlw5/orEyc4mPY4iR6ORNwZX9QVojOi+0MCoN2X6lnwI4jqLthpzFQ8d6lApMr3rUXdEOwlplDB\n",
       "CKHEPbJH7PA3CgZJjBUUcjJA0SBeNDz+Jm2tiyCb68kK7WcxV1CXujjK5OcqMg/uVgpUPkoZyB/2\n",
       "aXdGXIs8eJ8oUiXGJyY5YbLOwTugApxTxme+77Xu9E93rOXqouZ2KuGSdMW4/LgVzl71B9O0jkyz\n",
       "9PL9TObtK+LIaMbRhltMRY1/FASSWjY9jHRBXWYRyisntQBRk7MAAASRAZ6CdEN/AAZJCZqevP0q\n",
       "a4cAGJAEfIPzEEAK8uXIEWOMUvd3g52dVWVGWU4e7WeHOJUdNU1JvAqtU6eLaxocofJbyTRyFzZA\n",
       "VXPBf0PZKxPiPs1iqSfmfYa66qVGBsJboMwgHVf43TGbgHTKfx2xUKfc2Ms5mKzhvX4KkZsXOKjV\n",
       "9mN/7a2Ye7aKi12yjK7zQy0KY8ksSPpqY91OJox6c9gRicx/fVzfsV19bBO2jXun1vjNrLBn1bWw\n",
       "AB5lUk5TpABiibVOAhxRGDXqRG4TzFzsC5jRnXGiAai7bIjMrQ7W6TxRgGkKjuYmSjTVQ9JIicCO\n",
       "YBAG9JqCBWcLSgWCAowKUtNmYZ1/L+x2d9bT3VRclPidE/Nw9VWWXdPoOZkfNLnmCtwG502yPzU0\n",
       "VhSm5D9ueesLE46YNrqp6DhBcXz2W3LlCKdTsPRg4NQppmnVg5kRyb2GjEVF2/1woEsbXgfLRxcW\n",
       "fOAtqv9WYu0KEof50OMIa0QD/5F3Xr7iDOIKdn3ZcYmYZvahY4o4ZDX7GiZogJVRLbntJyX2McZa\n",
       "D2vmVAlf/eEUtXrWeByuS2vJhoiErxYUNu3wFHD/kd6dvfkqK0n+LhLQjhWPzsus1OSMaB9y7r9T\n",
       "JwAWVBLl+40tL/3IpWEvkAgHNWfr1Qb9hfRdBSf0PTkK1l8glx4wBze5Bo3JsK9u7HM433UyuyoO\n",
       "gsTdXqESMgxo5ccjJOHsMSqrAEPTTpS28gh2rSY87O9L1vcdYsa+zcl5IrgG3utIGdFa/p7JJgr/\n",
       "4xEYMAJTux/OStBbJxksQKGe7OoUsVI8U0cgDun/r9qa11bFps95o1URFNEvRK5KCkECy5nILfWI\n",
       "rOnA61X5Dylp/Wsi7VSC4anP0IhMeLGSlYL7LvmwALr3ef1mQtMPDn5Ky+tJuxoYnXbwl9EdeNXW\n",
       "8JsnGddmcjBB1jSYZ326boAjuUM4pjYapuFH5GFaJOkXRwfNXpf1CkxE6kfepOdeVBuotsrp+pqm\n",
       "g8cZWvuzK17VXa3C5QYXhi5YGxGy1FauBhfkmK35vg465KlcPqdFnS07FTrzigfcAkz3s3Dt5JjV\n",
       "F1R7vCCbfCHXiP6jvnSwkJWCUVZ2cWfeeTHIsqORSG3xYNl7e8EJRccqFOJJyOOF9U+mTEKtNafT\n",
       "xYidAG1JTqLr/mB8Z+M9klORO7TStP8qNSOO0IhSoKXbw6e3YM1/Is28HULhaQ3H9aUVmbJMMkjT\n",
       "xXcUMQPkFVbADtn1Em1RHxfTreHVfPm8eHi+r3Zr7Rqg6qJ3b9ZmkP8hcmrDfcYQyLryBY1p6fAs\n",
       "7bGyNT5AacBiEi0XT1hToPtGz4zWgzuTgPUbWIDZFspDGcGRuj7Vt2zTnGatCTk/yW5sMps0FNNh\n",
       "z8GJ/fNx3k3rxE9ET2uMUELNud8BlazMrbpFaI7FVgYD2HP94GIN3+M+nErks3QeN5/yhbCov4fn\n",
       "akIy2fAmcPOajY/s4fSfKaTSVF2YIj8HsqniatakL7dIUjn4oERsBaFIljg9NAlV91J6EKbtw6X6\n",
       "2yI6KIGDMzSI4KoAAfMAAAKoAZ6EakN/AA2BdJ1rgBCdaD32MTKCaTuV8HT+sDklHpY1gDLjq3Wv\n",
       "PPgyLErN9hzztRvWUKuGLxvsaHMOzAnygrAxD+LpJI2jguT69ozrcac9P4ZV7z2gNry8mDRaH/5c\n",
       "067Fa8IodwXpLnLOC/qtQnFJP4Q3IZHL3dC3M+1GgJU7vRqOSxfOwPWGJIZfRusVFL1yUD8MbVUY\n",
       "GqRho/SibFhBiM/NmP5uvqWO3mRFjXk563dkquT1GhX3UQKIsUKizZYlbMmGmk2l3Ffx8i5HXZHI\n",
       "tXQ/NuEzsIG2Hlz2g6D/v1om0RI9XBJ8FJZxsWPoV2/TvFtrpydEpkTIpoOlxyl5kqxV3yw3XPDT\n",
       "/XjntXW7A/TyHZEvAq4lnbDZfvBaKYFFDt3mh1O3iSkU0gs1g4lz68etKIMLT4YCvHYifJx8k0m3\n",
       "SCAwDjI04Rpj/FFEfUqk3OEhIPYV14C0OU3+rNQJz0tC+6KgBykJ0KKnmRYnY44TKtkbMB82GoXr\n",
       "outLk05y9FMOi/u9AJTub4PxSE2+ImpVZruLpfLXGPCIxgJQMmqqpzuVbd8shhaidIzIHZp9pIbz\n",
       "hv+DPZZgTs487UwJ7ESbKujf8WUdl2mx43jOVF7kp/gm+X5LneGHhEp60jlmi8HPG7RrvYALhiS5\n",
       "AsLN2cONeH+J+npN9ETLVpZyGqFSL+J5cWmfpVoO+AU3nm7AkB8iFcx/gj0rj5+BW2kFCu9HCAZ8\n",
       "LPvSV4ngVCHPtmK15xKRBBYcWdwHLCuelCowp48r2ebCpFb61B745+z81Et7l4Sc7IkY03vP2y/J\n",
       "hNzC+GvvaXdbHeiA3sKeAN5jv81G98qI91dFf5ro9yZWpeiGW4bef6j6ayX2UQJrqPNOOB3s3Mz4\n",
       "wC+CZo8ScsC0USmAIuEAAARKQZqGSahBaJlMCCP//rUqgAJwVwS4J9HWGDAAllGiPF//bezdciSh\n",
       "KV3/tiCB5LMqaJCltiZNqlX3k6F3grmgsdY9ofqGSkgTRtmkyhpoNqshGc3rTOezp9FoS8GYx7mI\n",
       "nVZpu6vDbO8yGK5po8u/6u4Qc9BWIgBoxERL034GoFb5BUsJKeA2GLPkYtpAeUnvOx+sg5KUBP14\n",
       "ZzNcRpoRisOBebRRYr1pMJ/eoO80fl94bjgkmSRMrYopUxkj1sk2l/WFrTFP2lNa50Jb4g5DjI3O\n",
       "xuEJ6PGk/MNG5ctr1bo3kelpbR8v6giUClF85thRUiTvIqF1rqRu6XsTfhpuflSUN+VmQVeXthAW\n",
       "x/Ce9KxMAp3CifBatOCFgHeVf/QejIUI575+HEJxyGlD0+H71SCozsEDdF1pwXHy0PhzEKw+WTqP\n",
       "VD96mYpvHCFJY9cmh1y9Co8Kfgoqy0TZWvoOIFhl+OpCCyxCjRlwilSLhBPUb9n2AXuF8Y/gNpd0\n",
       "+ZyYAhQlgESJijscuhS9spC7MLjz97+KUERj/PJ3axw3m6XR8hsTrgmYk5uGaaMxMoC4VOq8Aml4\n",
       "+GfOnUAoghB5GcE78nGaJTTQSq6qp6arNkO3AAvJzYB12Y8oj8li6RbpDXf8glJmcC7Gxyu9cTGR\n",
       "bR+JsgX0vYNJFSbweCRnEIX8eDz7vjKozS4T+yuoiViPXvfx9inpcgjKXhheFIOfHiVAA+vw3PhD\n",
       "8Ml3tY8CpOlUE2EjSu2lohog7z+CuPnhIZdnb0RDhJI1pr1uMbmrse3CfmRp1B8RZHovwau6zmeu\n",
       "8RKBrcBgQk/bf8rinAATa29sZrcXIkHSCMhxQT6Ez3RIs4SIBjDbsO/pzNYlDQrvWSqTcEG7v1hm\n",
       "c7I8KK3AT5pzOKC1113Ke2mngrl3TpWUgvwshT0pcGRjagMBqmteA9+DPvsUnEtEX3XyDysFkDs3\n",
       "bBFmaHAH4QZD7J3eUmNEP9BnaMMPTmh9lZnqEhJfZijA7v0To4Oj25l4hXs0c+QYZykUJZHGkuB0\n",
       "pXjhjEoqqCCaZm5VaQtHFZXVdRFCT2yyjmKAMLyD0YqvWqv0Ez/O0Yq59MEwPcqVk9FjTfMJbydR\n",
       "xwBtOmvdMPWdqWFBskfG4bfNBCYcCqk1UAGtxGh4SQV17PatpWRml8Fj6EuZi/bak50aLHXLNUEF\n",
       "giHg/XsoBoDKXB8x1rmZmapAclu1fKDw6NnCIZrpJoYtK89fgdVY9yUuan5PKfBTgQrjU6p0CJv7\n",
       "v4JJzAI0njclSXCNJkulSnyz9zPkhkypnemnRursGcsLUhY4RrG549l4iqZ3ZKDSr86y214x4ABM\n",
       "tSJliybJJaj6LlBr9yH+7NOFSFwSXwyrpm8qV02pVziIbh4sSPVTbxwIea6FZzfcoW2L5GO7nm2M\n",
       "twuYwI7++BSaAmRjb6nMklFwOdBfX6mTFkD4w9F/gAE3AAAErkGaqknhClJlMCCP//61KoACglDq\n",
       "ABueht4npGvt+mfDqnL6LaRQV7i9LEmR1vuo8vnHEjI9uLBMpEsJZtD/kDKu71YwwVMWPzgvzMCB\n",
       "bafbcvTO+obT/AQN3TQKdj4jOr43Sfe7VDfD7A0gOeWOCqTaPsgFbxmHmIfG5xrmXZGDKV2xevrk\n",
       "z0WuVxMvdpAEhntvRIR/G/w8z1UN7w7RENXwDEEs36ZB+oeOmmT46DFHufcCpIVZIPPo7Y9IpTSw\n",
       "GMVgwscdvTUeVuuT2dC7Iwg1vJiACaLQ7bNRrDfIYFD5q6/7Aa3xs5k+vRWKBDMuSZZPmxUiq2Js\n",
       "RTLqGQRLjE3iT/d+sHvNoY6BVcbZbXGvF2FnZgLP1e8BNSMXWrr33sBDMXhasa4Fcqtiqej5ZrMe\n",
       "Sr9fgb5HWB/sxFxGDd/F8TAK/WdOAZpNNJ0XZHn+xWGMHD1vjSWAK3ti2J+zzduupPBFx5RJ/yT1\n",
       "YyL25VHN5nH7jz03wRiI5ri1Z3wKxvD09lPk2IpWpLr1QZKBfu74pNhZQPyRrxwrapEhsTd7aLwS\n",
       "YWYGrY0srWdhw8tnQxPO0RhcyzbeINMBj5uKQqsj2UqQnLuLtkdpcpT7fFKPykKZSri9f541Nu8v\n",
       "4G2q7U1cXn6xPG2GoyjUDwdbNDR9yMwKK2KF55+Xa8qoT046t/UXF5hJkmeIc+bBXZ92slP0+Vh0\n",
       "7vpCVFWUvBfgfZfJRV+9FMQcD8Mn9QAB0DnMlUKM+4XSxU5lUcgV0ILEA5x5I67woYQrzhIMVXKW\n",
       "GCKrR5rc2rKy0pBUsFr13rN71hiZcNMsFlzRyr8M+YmFF5IFeFJLm8pRopJTugcqmy2BY+0e4XHj\n",
       "D9L0YnvZlO1SqHJy+Dz8Ts3Bf2IcP1Bya8HQYVI38Gntv8EVIcgr2f+xrnr1dDdWwEWkgX3Va6Iu\n",
       "Ft8cRywUrmgwM02ji/A5EESa/m3U6AKV+F1fL0K3okiutlja5LGMqerW2SYGVRcW/dukFaMYNJp7\n",
       "l+zuQaC3FYeVSuKGzyMj3VEBlAUvW8asqYzKuOZbhNgHaD9sc6YqYhoT497QwPjdjQ+oK/4tPx61\n",
       "m5h4Da1SMTeAqWynKpLI5g/wSyj8GjEJ2Z4hMpz5WY3Sbu+YHp1hk2xhCdyy3tmcICrwyTthLF+E\n",
       "dnuv/Q0U94Lpu9hdZg0FzpZ8cdsRVWwCw8ne61IeSA9ZHdYnncEWFLo2myXAM/FrktCieKXGZDox\n",
       "/L0aPz6Tg3F1BRi0H5B6+GLqMMWHkiQpVYfUYUBPbolWfQFBI7prbz+EB42NYanzr7toRkCcSgXF\n",
       "QLQzmPw7zdN96tyU4tgfDbHRk3rDHVOtcOEOWjGYtiXT0U0XguQQMLzpwSl/Qzmo9Qf/CixAdQPI\n",
       "zJQyFfhmw2W3MZ1T5KTf/zUkghk0N42r3/WenMmcCublofIoQ0BgIgqh9NfQP9Po7+zZIBFKOwWz\n",
       "1VOGzOvPx3RKp7X/f/vetAcWCtmTttdATyUjcK6T0tRCpgpKmzO+HQkyuKkWK3Cs2KUsyuvbWPAl\n",
       "b93ak90tn1MEeGllg+tRgz18XlbGn7jJjQurSsxhWrt4D7cAAl8AAAExQZ7IRTRMO/8ACWYfu0V+\n",
       "YAH6D/LItEpqhOAbwl7GXxFJAQL/J3B88TWNSszBsP6UVogDEQbFdMlllBJRZXtu84QVksx+fVQ+\n",
       "ZeltFYse/xoQ3jnVMwMowq9Chxs5bNuPBtcy63E5ipP17enqWKehJ9yumrGBhyMQ58iyNFEhE2yG\n",
       "APr+iqweFTd9wNkSql3XyfxPAFVWfWOvWD/PuMpKd/QAgkpev9jKqIEmAeV1V4Gci/3Fg0oU9dse\n",
       "KAwgIPEAucWV14rR5O7PBmEETa24yhjUI/r1PNsr+vskF1a4MwhQ7XeSS7am8sqF7yrs7S3nxzaE\n",
       "XhoKbzQLRoFr9ZcfP4qhGA6JzcdBnSf4kD/AWGIThk89VZ2AzfOFbdMI4xTQOIbnZXXczf16Su7Q\n",
       "IxNABJwAAAFUAZ7ndEN/AA3SCaH90mSADaQdTcV/qyp0rRIeGKHOu3rxddyUOLxCmZuPAavCDpS6\n",
       "ZUyq6PdG4CP9IK/foq95ZiZGzMvVn1IXYjQW4CCgxgpvuWHq+FnICEf2RzF5efFujyTvoodZM7Nb\n",
       "+vT8nwaKYWnnCDFAbqEAOeSyouo1ojshBdQvXSI+8i8kg1Mc9aiFZh3v/NoHMEoZKhnp3EzMqJHy\n",
       "TL4aUkGOexqAzCHmfLDEUldBvktf+NeA3zxMIK+xdcc8bap8BKUzQrhBb+6ZppbiTdxL7jx7u1tQ\n",
       "mXKMPoVWPxa0XUUbDE9hJfg0Y4L6SoO5whWjlzyVBmXUXXWO9wloAi0LQk5tWSaAiUCBYBnSuZnW\n",
       "eImVtCpFLbtZVdsTowaQEyhu/FETcnNW9GTe55cxzjKSIRIAyJLVmcV5ORl9utzg3QfosSUV1lej\n",
       "Ubmk4QDugAAAAFMBnulqQ38ADdF2YQeWV0u9+QAh7o/tCwQ57ErMmHBEwK4PcoiPGMmS/FXfo0XC\n",
       "K0CHmvPf/C4zeVNqI79q2xDFk+p0FujB+TjX5kH/spSWtOAQsQAAAPtBmu5JqEFomUwIIf/+qlUA\n",
       "BQL+xVBgA4hpN5aFjAt5TP7mQvb1pL/Vt2bu08ZVPiKQGfVbI+IP9fu2y1FkBCBIdobOa3/YQ7+s\n",
       "uCGD2uAIlu84Bhc4LEK/gcQMwiqg5D3t8m5z69TxnopXHaVPwcur545vrKp7Nrpz9vx0H2DdLXuV\n",
       "7+WFn6PwS7EHDVA+Obt4FiaV7Q8Cp2oUNCuTjxDzj/gkR+Br4LoDpknrZBFMNEctpoAzhLoYTqZ0\n",
       "KFKGIswaUBXdQVDSJc7nufiyElWyr0AfhusqdCpJpnRoiNhHWmwFV6t3YDXUABGlQihjmV11zMao\n",
       "hsTFmoAR8AAAAChBnwxFESw7/wAE3KcSbhImWbfN4/rY3cyTbX1sGFmggmaTEEAwABcQAAAAHwGf\n",
       "K3RDfwANf1hbZgrwgtY330hYYe+XIAOUWAoAPmEAAAAdAZ8takN/AAaX/zL6bCPnSx5OCvvNga1I\n",
       "9c6gBU0AAAAsQZsySahBbJlMCHf//qmWABMV2WO1SCeaz8bEEbJNu9Z4ACWiYYqC5HAAfkEAAAAg\n",
       "QZ9QRRUsO/8AAgDlHS3Z5hyZXzDiWq5H6Rn9p9AAVMAAAAAbAZ9vdEN/AALod+VotG9onQEM98aA\n",
       "XnWBQAVsAAAAGQGfcWpDfwAB0Cgu4YsmPMdJEoPVvKAAMWEAAAAWQZtzSahBbJlMCG///qeEAAAD\n",
       "AAAm4AAABBdtb292AAAAbG12aGQAAAAAAAAAAAAAAAAAAAPoAAAH0AABAAABAAAAAAAAAAAAAAAA\n",
       "AQAAAAAAAAAAAAAAAAAAAAEAAAAAAAAAAAAAAAAAAEAAAAAAAAAAAAAAAAAAAAAAAAAAAAAAAAAA\n",
       "AAAAAAACAAADQXRyYWsAAABcdGtoZAAAAAMAAAAAAAAAAAAAAAEAAAAAAAAH0AAAAAAAAAAAAAAA\n",
       "AAAAAAAAAQAAAAAAAAAAAAAAAAAAAAEAAAAAAAAAAAAAAAAAAEAAAAAB9AAAAZAAAAAAACRlZHRz\n",
       "AAAAHGVsc3QAAAAAAAAAAQAAB9AAAAgAAAEAAAAAArltZGlhAAAAIG1kaGQAAAAAAAAAAAAAAAAA\n",
       "ACgAAABQAFXEAAAAAAAtaGRscgAAAAAAAAAAdmlkZQAAAAAAAAAAAAAAAFZpZGVvSGFuZGxlcgAA\n",
       "AAJkbWluZgAAABR2bWhkAAAAAQAAAAAAAAAAAAAAJGRpbmYAAAAcZHJlZgAAAAAAAAABAAAADHVy\n",
       "bCAAAAABAAACJHN0YmwAAAC0c3RzZAAAAAAAAAABAAAApGF2YzEAAAAAAAAAAQAAAAAAAAAAAAAA\n",
       "AAAAAAAB9AGQAEgAAABIAAAAAAAAAAEAAAAAAAAAAAAAAAAAAAAAAAAAAAAAAAAAAAAAAAAAAAAY\n",
       "//8AAAAyYXZjQwFkABb/4QAZZ2QAFqzZQIAz5+EAAAMAAQAAAwAUDxYtlgEABmjr48siwAAAABx1\n",
       "dWlka2hA8l8kT8W6OaUbzwMj8wAAAAAAAAAYc3R0cwAAAAAAAAABAAAAFAAABAAAAAAUc3RzcwAA\n",
       "AAAAAAABAAAAAQAAAKhjdHRzAAAAAAAAABMAAAACAAAIAAAAAAEAABQAAAAAAQAACAAAAAABAAAA\n",
       "AAAAAAEAAAQAAAAAAQAACAAAAAABAAAUAAAAAAEAAAgAAAAAAQAAAAAAAAABAAAEAAAAAAEAABQA\n",
       "AAAAAQAACAAAAAABAAAAAAAAAAEAAAQAAAAAAQAAFAAAAAABAAAIAAAAAAEAAAAAAAAAAQAABAAA\n",
       "AAABAAAIAAAAABxzdHNjAAAAAAAAAAEAAAABAAAAFAAAAAEAAABkc3RzegAAAAAAAAAAAAAAFAAA\n",
       "HoQAAATWAAAF5gAAA7QAAASVAAACrAAABE4AAASyAAABNQAAAVgAAABXAAAA/wAAACwAAAAjAAAA\n",
       "IQAAADAAAAAkAAAAHwAAAB0AAAAaAAAAFHN0Y28AAAAAAAAAAQAAACwAAABidWR0YQAAAFptZXRh\n",
       "AAAAAAAAACFoZGxyAAAAAAAAAABtZGlyYXBwbAAAAAAAAAAAAAAAAC1pbHN0AAAAJal0b28AAAAd\n",
       "ZGF0YQAAAAEAAAAATGF2ZjU4LjEyLjEwMA==\n",
       "\">\n",
       "  Your browser does not support the video tag.\n",
       "</video>"
      ],
      "text/plain": [
       "<matplotlib.animation.FuncAnimation at 0x7f9afefcae10>"
      ]
     },
     "execution_count": 21,
     "metadata": {},
     "output_type": "execute_result"
    }
   ],
   "source": [
    "fig = plt.figure(dpi=100, figsize=(5, 4))\n",
    "plt.scatter(x,y)\n",
    "line, = plt.plot(x,lin(a_guess,b_guess,x))\n",
    "plt.close()\n",
    "\n",
    "def animate(i):\n",
    "    line.set_ydata(lin(a_guess,b_guess,x))\n",
    "    for i in range(30): upd()\n",
    "    return line,\n",
    "\n",
    "ani = animation.FuncAnimation(fig, animate, np.arange(0, 20), interval=100)\n",
    "ani"
   ]
  },
  {
   "cell_type": "code",
   "execution_count": null,
   "metadata": {
    "collapsed": true
   },
   "outputs": [],
   "source": []
  }
 ],
 "metadata": {
  "kernelspec": {
   "display_name": "Python 3",
   "language": "python",
   "name": "python3"
  },
  "language_info": {
   "codemirror_mode": {
    "name": "ipython",
    "version": 3
   },
   "file_extension": ".py",
   "mimetype": "text/x-python",
   "name": "python",
   "nbconvert_exporter": "python",
   "pygments_lexer": "ipython3",
   "version": "3.6.5"
  },
  "nav_menu": {},
  "toc": {
   "colors": {
    "hover_highlight": "#DAA520",
    "navigate_num": "#000000",
    "navigate_text": "#333333",
    "running_highlight": "#FF0000",
    "selected_highlight": "#FFD700",
    "sidebar_border": "#EEEEEE",
    "wrapper_background": "#FFFFFF"
   },
   "moveMenuLeft": true,
   "nav_menu": {
    "height": "116px",
    "width": "251px"
   },
   "navigate_menu": true,
   "number_sections": true,
   "sideBar": true,
   "threshold": 4,
   "toc_cell": true,
   "toc_section_display": "block",
   "toc_window_display": false,
   "widenNotebook": false
  },
  "widgets": {
   "state": {},
   "version": "1.1.2"
  }
 },
 "nbformat": 4,
 "nbformat_minor": 1
}
